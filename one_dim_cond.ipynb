{
 "cells": [
  {
   "cell_type": "code",
   "execution_count": 2,
   "metadata": {},
   "outputs": [
    {
     "name": "stderr",
     "output_type": "stream",
     "text": [
      "/root/miniconda3/envs/ebm/lib/python3.8/site-packages/tqdm/auto.py:21: TqdmWarning: IProgress not found. Please update jupyter and ipywidgets. See https://ipywidgets.readthedocs.io/en/stable/user_install.html\n",
      "  from .autonotebook import tqdm as notebook_tqdm\n"
     ]
    }
   ],
   "source": [
    "import torch\n",
    "import torch.nn as nn\n",
    "from functools import partial\n",
    "import numpy as np\n",
    "from torch.utils.data import DataLoader\n",
    "import matplotlib.pyplot as plt\n",
    "from torch.utils.tensorboard import SummaryWriter\n",
    "import math\n",
    "from random import random\n",
    "writer = SummaryWriter()\n",
    "device = torch.device('cuda' if torch.cuda.is_available() else 'cpu')"
   ]
  },
  {
   "cell_type": "code",
   "execution_count": 3,
   "metadata": {},
   "outputs": [
    {
     "data": {
      "text/plain": [
       "[<matplotlib.lines.Line2D at 0x7f42dee1c160>]"
      ]
     },
     "execution_count": 3,
     "metadata": {},
     "output_type": "execute_result"
    },
    {
     "data": {
      "image/png": "[encoded data removed]",
      "text/plain": [
       "<Figure size 640x480 with 1 Axes>"
      ]
     },
     "metadata": {},
     "output_type": "display_data"
    }
   ],
   "source": [
    "def density(mu, sigma):\n",
    "    def f(x):\n",
    "        return 1/(math.sqrt(2*math.pi)*sigma)*torch.exp(-(x-mu)**2/(2*sigma**2))\n",
    "    return f\n",
    "\n",
    "def rand_density(left, width):\n",
    "    def f(x):\n",
    "        return torch.where((x>left)&(x<left+width), 1/width, 0) \n",
    "    return f\n",
    "\n",
    "x = torch.linspace(-2, 2, 1000)\n",
    "left = random()*2-1\n",
    "width = min(random(), 1-left)\n",
    "f = rand_density(left, width)\n",
    "sample = torch.rand(10000)*width+left\n",
    "plt.hist(sample, bins=30, density=True)\n",
    "plt.plot(x, f(x))"
   ]
  },
  {
   "cell_type": "code",
   "execution_count": 4,
   "metadata": {},
   "outputs": [],
   "source": [
    "class MLP_cond(nn.Module):\n",
    "    def __init__(self, input_dim:int, hidden_dim:int, hidden_depth:int, output_dim:int, dropout:float) -> None:\n",
    "        super().__init__()\n",
    "        dropout_layer = partial(nn.Dropout, p=dropout)\n",
    "        layers1 = [nn.Linear(input_dim, hidden_dim), nn.ReLU(), dropout_layer()]\n",
    "        for _ in range(hidden_depth-1):\n",
    "            layers1 += [nn.Linear(hidden_dim, hidden_dim), nn.ReLU(), dropout_layer()]\n",
    "        layers1.append(nn.Linear(hidden_dim, output_dim))\n",
    "        self.layers1 = nn.Sequential(*layers1)\n",
    "    def forward(self, x, cond):\n",
    "        return self.layers1(torch.cat((x, cond), dim=-1))"
   ]
  },
  {
   "cell_type": "code",
   "execution_count": 5,
   "metadata": {},
   "outputs": [],
   "source": [
    "def mse_loss(net, left, width):\n",
    "    samples = torch.rand(10000, 1).to(device) * 4 - 2\n",
    "    cond = torch.cat((left*torch.ones(10000, 1), width*torch.ones(10000, 1)), dim=-1).to(device)\n",
    "    integral = torch.mean(torch.exp(-net(samples, cond)))*4\n",
    "    x = torch.rand(10000, 1).to(device) * 4 - 2\n",
    "    f = rand_density(left, width)\n",
    "    ground_truth = f(x)\n",
    "    pred = torch.exp(-net(x, cond))/integral\n",
    "    return torch.mean((ground_truth-pred)**2)"
   ]
  },
  {
   "cell_type": "code",
   "execution_count": 6,
   "metadata": {},
   "outputs": [],
   "source": [
    "def mse_loss(net, mu, sigma):\n",
    "    samples = torch.rand(10000, 1).to(device) * 4 - 2\n",
    "    cond = torch.cat((mu*torch.ones(10000, 1), sigma*torch.ones(10000, 1)), dim=-1).to(device)\n",
    "    integral = torch.mean(torch.exp(-net(samples, cond)))*4\n",
    "    x = torch.rand(10000, 1).to(device) * 4 - 2\n",
    "    f = density(mu, sigma)\n",
    "    ground_truth = f(x)\n",
    "    pred = torch.exp(-net(x, cond))/integral\n",
    "    return torch.mean((ground_truth-pred)**2)"
   ]
  },
  {
   "cell_type": "code",
   "execution_count": 7,
   "metadata": {},
   "outputs": [
    {
     "data": {
      "image/png": "[encoded data removed]",
      "text/plain": [
       "<Figure size 640x480 with 1 Axes>"
      ]
     },
     "metadata": {},
     "output_type": "display_data"
    }
   ],
   "source": [
    "from tqdm import tqdm\n",
    "from random import random\n",
    "\n",
    "fig, ax = plt.subplots()\n",
    "\n",
    "def reflact(tensor, down, up):\n",
    "    t = tensor.clone()\n",
    "    while ((down<t) & (t>up)).any():   \n",
    "        t = torch.where(t<down, 2*down-t, t)\n",
    "        t = torch.where(t>up, 2*up-t, t)\n",
    "    return t\n",
    "\n",
    "def energy_discrepancy(energy_net, x, margin, left, width, m_particles=16, t_noise=0.5, w_stable=1.0):\n",
    "    device = x.device\n",
    "    browniani = torch.randn_like(x).to(device) * t_noise\n",
    "    brownianij = torch.randn(x.size(0), m_particles, *x.shape[1:]).to(device) * t_noise\n",
    "    pert_data_origin = x.unsqueeze(1) + browniani.unsqueeze(1) + brownianij\n",
    "    if margin=='clip':\n",
    "        pert_data = torch.clip(pert_data_origin, -1, 1)\n",
    "    elif margin=='reflact':\n",
    "        pert_data = reflact(pert_data_origin, -1, 1)\n",
    "    else:\n",
    "        pert_data = pert_data_origin\n",
    "    cond = torch.cat((left, width), -1)\n",
    "    cond_repeat = cond.unsqueeze(1).repeat(1, m_particles, 1)\n",
    "    pos_energy = energy_net(x=x, cond=cond)\n",
    "    neg_energy = energy_net(x=pert_data, cond=cond_repeat)\n",
    "    val = pos_energy - neg_energy.squeeze()\n",
    "    if w_stable != 0:\n",
    "        val = torch.cat([val, np.log(w_stable) * torch.ones_like(val[:, :1])], dim=-1)\n",
    "    loss = val.logsumexp(dim=-1).mean()\n",
    "    return loss, pos_energy.max(), neg_energy.max()\n",
    "\n",
    "def energy_discrepancy_cond_train(energy_net, f, margin, m_particles=16, t_noise=0.5, w_stable=1.0, epochs=1000, batch_size=256):\n",
    "    optimizer = torch.optim.Adam(energy_net.parameters(), lr=0.01)\n",
    "    pbar = tqdm(range(epochs))\n",
    "    for epoch in pbar:\n",
    "        left = torch.rand(batch_size, 1)*2-1\n",
    "        width = torch.min(torch.rand(batch_size, 1), 1-left)\n",
    "        f = rand_density(left, width)\n",
    "        x = torch.rand(batch_size, 1)*width+left\n",
    "        left, width, x = left.to(device), width.to(device), x.to(device)\n",
    "        loss, _, _ = energy_discrepancy(energy_net, x, margin, left, width, m_particles, t_noise, w_stable)\n",
    "        optimizer.zero_grad()\n",
    "        loss.backward()\n",
    "        optimizer.step()\n",
    "        energy_net.eval()\n",
    "        test_loss = 0.0\n",
    "        for _ in range(10):\n",
    "            test_loss += mse_loss(energy_net, random()/2-0.25, (random()+1)/8)\n",
    "        test_loss/=10\n",
    "        writer.add_scalar(f\"{margin}_t_noise_{t_noise}_w_{w_stable}/ED\", loss.item(), epoch)\n",
    "        writer.add_scalar(f\"{margin}_t_noise_{t_noise}_w_{w_stable}/MSE\", test_loss.item(), epoch)  \n",
    "        writer.add_scalar(f\"{margin}_t_noise_{t_noise}_w_{w_stable}/MSE_log\", torch.log(test_loss).item(), epoch)  \n",
    "        pbar.set_description('Epoch:{:4d},ED:{:.4f},MSE:{:.4f}'.format(epoch, loss.item(), test_loss.item()))\n",
    "    x = torch.linspace(-2, 2, 1000)[..., None].to(device)\n",
    "    left = random()*2-1\n",
    "    width = min(random(), 1-left)\n",
    "    f = rand_density(left, width)\n",
    "    mu_repeat = left*torch.ones(1000, 1).to(device)\n",
    "    sigma_repeat = width*torch.ones(1000, 1).to(device)\n",
    "    samples = torch.rand(1000, 1).to(device) * 4 - 2\n",
    "    integral = torch.mean(torch.exp(-energy_net(samples, torch.cat((mu_repeat, sigma_repeat), dim=-1)))).item()*4\n",
    "    ax.cla()\n",
    "    ax.plot(x.cpu().detach().numpy(), np.exp(-energy_net(x, torch.cat((mu_repeat, sigma_repeat), dim=-1)).cpu().detach().numpy())/integral, label='predict')\n",
    "    ax.plot(x.cpu().detach().numpy(), f(x).cpu().detach().numpy(), label='ground_truth')\n",
    "    ax.legend(loc='best')\n",
    "    writer.add_figure(f\"{margin}_t_noise_{t_noise}_w_{w_stable}/result\",fig)"
   ]
  },
  {
   "cell_type": "code",
   "execution_count": 8,
   "metadata": {},
   "outputs": [
    {
     "name": "stdout",
     "output_type": "stream",
     "text": [
      "margin:clip, t_noise:0.1, w:0.0\n"
     ]
    },
    {
     "name": "stderr",
     "output_type": "stream",
     "text": [
      "Epoch:4999,ED:-9376675.0000,MSE:nan: 100%|██████████| 5000/5000 [02:15<00:00, 36.89it/s] \n",
      "/tmp/ipykernel_4340/2543618693.py:65: RuntimeWarning: overflow encountered in exp\n",
      "  ax.plot(x.cpu().detach().numpy(), np.exp(-energy_net(x, torch.cat((mu_repeat, sigma_repeat), dim=-1)).cpu().detach().numpy())/integral, label='predict')\n",
      "/tmp/ipykernel_4340/2543618693.py:65: RuntimeWarning: invalid value encountered in divide\n",
      "  ax.plot(x.cpu().detach().numpy(), np.exp(-energy_net(x, torch.cat((mu_repeat, sigma_repeat), dim=-1)).cpu().detach().numpy())/integral, label='predict')\n"
     ]
    },
    {
     "name": "stdout",
     "output_type": "stream",
     "text": [
      "margin:clip, t_noise:0.1, w:0.1\n"
     ]
    },
    {
     "name": "stderr",
     "output_type": "stream",
     "text": [
      "Epoch:4999,ED:1.9505,MSE:nan: 100%|██████████| 5000/5000 [02:12<00:00, 37.82it/s]   \n"
     ]
    },
    {
     "name": "stdout",
     "output_type": "stream",
     "text": [
      "margin:clip, t_noise:0.1, w:0.5\n"
     ]
    },
    {
     "name": "stderr",
     "output_type": "stream",
     "text": [
      "Epoch:4999,ED:2.2285,MSE:0.8603: 100%|██████████| 5000/5000 [02:11<00:00, 38.13it/s]\n"
     ]
    },
    {
     "name": "stdout",
     "output_type": "stream",
     "text": [
      "margin:clip, t_noise:0.1, w:1.0\n"
     ]
    },
    {
     "name": "stderr",
     "output_type": "stream",
     "text": [
      "Epoch:4999,ED:2.3183,MSE:0.7777: 100%|██████████| 5000/5000 [02:13<00:00, 37.57it/s]\n"
     ]
    },
    {
     "name": "stdout",
     "output_type": "stream",
     "text": [
      "margin:clip, t_noise:0.1, w:2.0\n"
     ]
    },
    {
     "name": "stderr",
     "output_type": "stream",
     "text": [
      "Epoch:4999,ED:2.3610,MSE:0.8492: 100%|██████████| 5000/5000 [02:12<00:00, 37.81it/s]\n"
     ]
    },
    {
     "name": "stdout",
     "output_type": "stream",
     "text": [
      "margin:clip, t_noise:0.2, w:0.0\n"
     ]
    },
    {
     "name": "stderr",
     "output_type": "stream",
     "text": [
      "Epoch:4999,ED:-3817870336.0000,MSE:nan: 100%|██████████| 5000/5000 [02:11<00:00, 37.90it/s] \n"
     ]
    },
    {
     "name": "stdout",
     "output_type": "stream",
     "text": [
      "margin:clip, t_noise:0.2, w:0.1\n"
     ]
    },
    {
     "name": "stderr",
     "output_type": "stream",
     "text": [
      "Epoch:4999,ED:1.6076,MSE:0.7386: 100%|██████████| 5000/5000 [02:13<00:00, 37.57it/s]\n"
     ]
    },
    {
     "name": "stdout",
     "output_type": "stream",
     "text": [
      "margin:clip, t_noise:0.2, w:0.5\n"
     ]
    },
    {
     "name": "stderr",
     "output_type": "stream",
     "text": [
      "Epoch:4999,ED:1.6648,MSE:0.7861: 100%|██████████| 5000/5000 [02:13<00:00, 37.50it/s]\n"
     ]
    },
    {
     "name": "stdout",
     "output_type": "stream",
     "text": [
      "margin:clip, t_noise:0.2, w:1.0\n"
     ]
    },
    {
     "name": "stderr",
     "output_type": "stream",
     "text": [
      "Epoch:4999,ED:1.8321,MSE:0.7939: 100%|██████████| 5000/5000 [02:12<00:00, 37.76it/s]\n"
     ]
    },
    {
     "name": "stdout",
     "output_type": "stream",
     "text": [
      "margin:clip, t_noise:0.2, w:2.0\n"
     ]
    },
    {
     "name": "stderr",
     "output_type": "stream",
     "text": [
      "Epoch:4999,ED:2.1197,MSE:nan: 100%|██████████| 5000/5000 [02:11<00:00, 37.95it/s]   \n"
     ]
    },
    {
     "name": "stdout",
     "output_type": "stream",
     "text": [
      "margin:clip, t_noise:0.4, w:0.0\n"
     ]
    },
    {
     "name": "stderr",
     "output_type": "stream",
     "text": [
      "Epoch:4999,ED:-320556695552.0000,MSE:nan: 100%|██████████| 5000/5000 [02:12<00:00, 37.72it/s]\n"
     ]
    },
    {
     "name": "stdout",
     "output_type": "stream",
     "text": [
      "margin:clip, t_noise:0.4, w:0.1\n"
     ]
    },
    {
     "name": "stderr",
     "output_type": "stream",
     "text": [
      "Epoch:4999,ED:0.9167,MSE:0.7930: 100%|██████████| 5000/5000 [02:11<00:00, 37.94it/s]\n"
     ]
    },
    {
     "name": "stdout",
     "output_type": "stream",
     "text": [
      "margin:clip, t_noise:0.4, w:0.5\n"
     ]
    },
    {
     "name": "stderr",
     "output_type": "stream",
     "text": [
      "Epoch:4999,ED:1.3109,MSE:nan: 100%|██████████| 5000/5000 [02:15<00:00, 36.79it/s]   \n"
     ]
    },
    {
     "name": "stdout",
     "output_type": "stream",
     "text": [
      "margin:clip, t_noise:0.4, w:1.0\n"
     ]
    },
    {
     "name": "stderr",
     "output_type": "stream",
     "text": [
      "Epoch:4999,ED:1.4866,MSE:nan: 100%|██████████| 5000/5000 [02:11<00:00, 37.91it/s]   \n"
     ]
    },
    {
     "name": "stdout",
     "output_type": "stream",
     "text": [
      "margin:clip, t_noise:0.4, w:2.0\n"
     ]
    },
    {
     "name": "stderr",
     "output_type": "stream",
     "text": [
      "Epoch:4999,ED:1.6668,MSE:0.8252: 100%|██████████| 5000/5000 [02:17<00:00, 36.37it/s]\n"
     ]
    },
    {
     "name": "stdout",
     "output_type": "stream",
     "text": [
      "margin:clip, t_noise:0.8, w:0.0\n"
     ]
    },
    {
     "name": "stderr",
     "output_type": "stream",
     "text": [
      "Epoch:4999,ED:-6065854349312.0000,MSE:nan: 100%|██████████| 5000/5000 [02:10<00:00, 38.23it/s]\n"
     ]
    },
    {
     "name": "stdout",
     "output_type": "stream",
     "text": [
      "margin:clip, t_noise:0.8, w:0.1\n"
     ]
    },
    {
     "name": "stderr",
     "output_type": "stream",
     "text": [
      "Epoch:4999,ED:0.1500,MSE:0.9150: 100%|██████████| 5000/5000 [02:14<00:00, 37.27it/s] \n"
     ]
    },
    {
     "name": "stdout",
     "output_type": "stream",
     "text": [
      "margin:clip, t_noise:0.8, w:0.5\n"
     ]
    },
    {
     "name": "stderr",
     "output_type": "stream",
     "text": [
      "Epoch:4999,ED:0.8183,MSE:0.7760: 100%|██████████| 5000/5000 [02:13<00:00, 37.42it/s]\n"
     ]
    },
    {
     "name": "stdout",
     "output_type": "stream",
     "text": [
      "margin:clip, t_noise:0.8, w:1.0\n"
     ]
    },
    {
     "name": "stderr",
     "output_type": "stream",
     "text": [
      "Epoch:4999,ED:1.0066,MSE:0.8284: 100%|██████████| 5000/5000 [02:14<00:00, 37.20it/s]\n"
     ]
    },
    {
     "name": "stdout",
     "output_type": "stream",
     "text": [
      "margin:clip, t_noise:0.8, w:2.0\n"
     ]
    },
    {
     "name": "stderr",
     "output_type": "stream",
     "text": [
      "Epoch:4999,ED:1.3978,MSE:nan: 100%|██████████| 5000/5000 [02:13<00:00, 37.49it/s]   \n"
     ]
    },
    {
     "name": "stdout",
     "output_type": "stream",
     "text": [
      "margin:clip, t_noise:1.6, w:0.0\n"
     ]
    },
    {
     "name": "stderr",
     "output_type": "stream",
     "text": [
      "Epoch:4999,ED:-47764989804544.0000,MSE:nan: 100%|██████████| 5000/5000 [02:11<00:00, 37.95it/s]\n"
     ]
    },
    {
     "name": "stdout",
     "output_type": "stream",
     "text": [
      "margin:clip, t_noise:1.6, w:0.1\n"
     ]
    },
    {
     "name": "stderr",
     "output_type": "stream",
     "text": [
      "Epoch:4999,ED:-0.4395,MSE:0.8360: 100%|██████████| 5000/5000 [02:14<00:00, 37.22it/s]\n"
     ]
    },
    {
     "name": "stdout",
     "output_type": "stream",
     "text": [
      "margin:clip, t_noise:1.6, w:0.5\n"
     ]
    },
    {
     "name": "stderr",
     "output_type": "stream",
     "text": [
      "Epoch:4999,ED:0.2497,MSE:0.8081: 100%|██████████| 5000/5000 [02:13<00:00, 37.51it/s]\n"
     ]
    },
    {
     "name": "stdout",
     "output_type": "stream",
     "text": [
      "margin:clip, t_noise:1.6, w:1.0\n"
     ]
    },
    {
     "name": "stderr",
     "output_type": "stream",
     "text": [
      "Epoch:4999,ED:0.6965,MSE:0.7905: 100%|██████████| 5000/5000 [02:12<00:00, 37.69it/s]\n"
     ]
    },
    {
     "name": "stdout",
     "output_type": "stream",
     "text": [
      "margin:clip, t_noise:1.6, w:2.0\n"
     ]
    },
    {
     "name": "stderr",
     "output_type": "stream",
     "text": [
      "Epoch:4999,ED:1.1611,MSE:0.6990: 100%|██████████| 5000/5000 [02:12<00:00, 37.63it/s]\n"
     ]
    },
    {
     "name": "stdout",
     "output_type": "stream",
     "text": [
      "margin:reflact, t_noise:0.1, w:0.0\n"
     ]
    },
    {
     "name": "stderr",
     "output_type": "stream",
     "text": [
      "Epoch:4999,ED:-13927326.0000,MSE:nan: 100%|██████████| 5000/5000 [02:14<00:00, 37.22it/s]\n"
     ]
    },
    {
     "name": "stdout",
     "output_type": "stream",
     "text": [
      "margin:reflact, t_noise:0.1, w:0.1\n"
     ]
    },
    {
     "name": "stderr",
     "output_type": "stream",
     "text": [
      "Epoch:4999,ED:2.0614,MSE:0.8035: 100%|██████████| 5000/5000 [02:11<00:00, 38.00it/s]\n"
     ]
    },
    {
     "name": "stdout",
     "output_type": "stream",
     "text": [
      "margin:reflact, t_noise:0.1, w:0.5\n"
     ]
    },
    {
     "name": "stderr",
     "output_type": "stream",
     "text": [
      "Epoch:4999,ED:2.2235,MSE:0.8714: 100%|██████████| 5000/5000 [02:17<00:00, 36.39it/s]\n"
     ]
    },
    {
     "name": "stdout",
     "output_type": "stream",
     "text": [
      "margin:reflact, t_noise:0.1, w:1.0\n"
     ]
    },
    {
     "name": "stderr",
     "output_type": "stream",
     "text": [
      "Epoch:4999,ED:2.2815,MSE:nan: 100%|██████████| 5000/5000 [02:14<00:00, 37.27it/s]   \n"
     ]
    },
    {
     "name": "stdout",
     "output_type": "stream",
     "text": [
      "margin:reflact, t_noise:0.1, w:2.0\n"
     ]
    },
    {
     "name": "stderr",
     "output_type": "stream",
     "text": [
      "Epoch:4999,ED:2.4542,MSE:0.8025: 100%|██████████| 5000/5000 [02:14<00:00, 37.16it/s]\n"
     ]
    },
    {
     "name": "stdout",
     "output_type": "stream",
     "text": [
      "margin:reflact, t_noise:0.2, w:0.0\n"
     ]
    },
    {
     "name": "stderr",
     "output_type": "stream",
     "text": [
      "Epoch:4999,ED:-16329254912.0000,MSE:nan: 100%|██████████| 5000/5000 [02:13<00:00, 37.41it/s]\n"
     ]
    },
    {
     "name": "stdout",
     "output_type": "stream",
     "text": [
      "margin:reflact, t_noise:0.2, w:0.1\n"
     ]
    },
    {
     "name": "stderr",
     "output_type": "stream",
     "text": [
      "Epoch:4999,ED:1.6523,MSE:0.5881: 100%|██████████| 5000/5000 [02:16<00:00, 36.61it/s]\n"
     ]
    },
    {
     "name": "stdout",
     "output_type": "stream",
     "text": [
      "margin:reflact, t_noise:0.2, w:0.5\n"
     ]
    },
    {
     "name": "stderr",
     "output_type": "stream",
     "text": [
      "Epoch:4999,ED:1.8970,MSE:0.8731: 100%|██████████| 5000/5000 [02:14<00:00, 37.22it/s]\n"
     ]
    },
    {
     "name": "stdout",
     "output_type": "stream",
     "text": [
      "margin:reflact, t_noise:0.2, w:1.0\n"
     ]
    },
    {
     "name": "stderr",
     "output_type": "stream",
     "text": [
      "Epoch:1533,ED:1.9661,MSE:0.8734:  31%|███       | 1534/5000 [00:41<01:34, 36.63it/s]\n"
     ]
    },
    {
     "ename": "KeyboardInterrupt",
     "evalue": "",
     "output_type": "error",
     "traceback": [
      "\u001b[0;31m---------------------------------------------------------------------------\u001b[0m",
      "\u001b[0;31mKeyboardInterrupt\u001b[0m                         Traceback (most recent call last)",
      "Cell \u001b[0;32mIn[8], line 6\u001b[0m\n\u001b[1;32m      4\u001b[0m net \u001b[38;5;241m=\u001b[39m MLP_cond(\u001b[38;5;241m3\u001b[39m, \u001b[38;5;241m512\u001b[39m, \u001b[38;5;241m3\u001b[39m, \u001b[38;5;241m1\u001b[39m, \u001b[38;5;241m0.1\u001b[39m)\u001b[38;5;241m.\u001b[39mto(device)\n\u001b[1;32m      5\u001b[0m \u001b[38;5;28mprint\u001b[39m(\u001b[38;5;124m\"\u001b[39m\u001b[38;5;124mmargin:\u001b[39m\u001b[38;5;132;01m{}\u001b[39;00m\u001b[38;5;124m, t_noise:\u001b[39m\u001b[38;5;132;01m{}\u001b[39;00m\u001b[38;5;124m, w:\u001b[39m\u001b[38;5;132;01m{}\u001b[39;00m\u001b[38;5;124m\"\u001b[39m\u001b[38;5;241m.\u001b[39mformat(margin, \u001b[38;5;241m2\u001b[39m\u001b[38;5;241m*\u001b[39m\u001b[38;5;241m*\u001b[39mt_noise\u001b[38;5;241m*\u001b[39m\u001b[38;5;241m0.1\u001b[39m, w))\n\u001b[0;32m----> 6\u001b[0m \u001b[43menergy_discrepancy_cond_train\u001b[49m\u001b[43m(\u001b[49m\u001b[43mnet\u001b[49m\u001b[43m,\u001b[49m\u001b[43m \u001b[49m\u001b[43mf\u001b[49m\u001b[43m,\u001b[49m\u001b[43m \u001b[49m\u001b[43mmargin\u001b[49m\u001b[43m,\u001b[49m\u001b[43m \u001b[49m\u001b[43mm_particles\u001b[49m\u001b[38;5;241;43m=\u001b[39;49m\u001b[38;5;241;43m16\u001b[39;49m\u001b[43m,\u001b[49m\u001b[43m \u001b[49m\u001b[43mt_noise\u001b[49m\u001b[38;5;241;43m=\u001b[39;49m\u001b[38;5;241;43m2\u001b[39;49m\u001b[38;5;241;43m*\u001b[39;49m\u001b[38;5;241;43m*\u001b[39;49m\u001b[43mt_noise\u001b[49m\u001b[38;5;241;43m*\u001b[39;49m\u001b[38;5;241;43m0.1\u001b[39;49m\u001b[43m,\u001b[49m\u001b[43m \u001b[49m\u001b[43mw_stable\u001b[49m\u001b[38;5;241;43m=\u001b[39;49m\u001b[43mw\u001b[49m\u001b[43m,\u001b[49m\u001b[43m \u001b[49m\u001b[43mepochs\u001b[49m\u001b[38;5;241;43m=\u001b[39;49m\u001b[38;5;241;43m5000\u001b[39;49m\u001b[43m,\u001b[49m\u001b[43m \u001b[49m\u001b[43mbatch_size\u001b[49m\u001b[38;5;241;43m=\u001b[39;49m\u001b[38;5;241;43m512\u001b[39;49m\u001b[43m)\u001b[49m\n",
      "Cell \u001b[0;32mIn[7], line 55\u001b[0m, in \u001b[0;36menergy_discrepancy_cond_train\u001b[0;34m(energy_net, f, margin, m_particles, t_noise, w_stable, epochs, batch_size)\u001b[0m\n\u001b[1;32m     53\u001b[0m     writer\u001b[38;5;241m.\u001b[39madd_scalar(\u001b[38;5;124mf\u001b[39m\u001b[38;5;124m\"\u001b[39m\u001b[38;5;132;01m{\u001b[39;00mmargin\u001b[38;5;132;01m}\u001b[39;00m\u001b[38;5;124m_t_noise_\u001b[39m\u001b[38;5;132;01m{\u001b[39;00mt_noise\u001b[38;5;132;01m}\u001b[39;00m\u001b[38;5;124m_w_\u001b[39m\u001b[38;5;132;01m{\u001b[39;00mw_stable\u001b[38;5;132;01m}\u001b[39;00m\u001b[38;5;124m/MSE\u001b[39m\u001b[38;5;124m\"\u001b[39m, test_loss\u001b[38;5;241m.\u001b[39mitem(), epoch)  \n\u001b[1;32m     54\u001b[0m     writer\u001b[38;5;241m.\u001b[39madd_scalar(\u001b[38;5;124mf\u001b[39m\u001b[38;5;124m\"\u001b[39m\u001b[38;5;132;01m{\u001b[39;00mmargin\u001b[38;5;132;01m}\u001b[39;00m\u001b[38;5;124m_t_noise_\u001b[39m\u001b[38;5;132;01m{\u001b[39;00mt_noise\u001b[38;5;132;01m}\u001b[39;00m\u001b[38;5;124m_w_\u001b[39m\u001b[38;5;132;01m{\u001b[39;00mw_stable\u001b[38;5;132;01m}\u001b[39;00m\u001b[38;5;124m/MSE_log\u001b[39m\u001b[38;5;124m\"\u001b[39m, torch\u001b[38;5;241m.\u001b[39mlog(test_loss)\u001b[38;5;241m.\u001b[39mitem(), epoch)  \n\u001b[0;32m---> 55\u001b[0m     pbar\u001b[38;5;241m.\u001b[39mset_description(\u001b[38;5;124m'\u001b[39m\u001b[38;5;124mEpoch:\u001b[39m\u001b[38;5;132;01m{:4d}\u001b[39;00m\u001b[38;5;124m,ED:\u001b[39m\u001b[38;5;132;01m{:.4f}\u001b[39;00m\u001b[38;5;124m,MSE:\u001b[39m\u001b[38;5;132;01m{:.4f}\u001b[39;00m\u001b[38;5;124m'\u001b[39m\u001b[38;5;241m.\u001b[39mformat(epoch, loss\u001b[38;5;241m.\u001b[39mitem(), \u001b[43mtest_loss\u001b[49m\u001b[38;5;241;43m.\u001b[39;49m\u001b[43mitem\u001b[49m\u001b[43m(\u001b[49m\u001b[43m)\u001b[49m))\n\u001b[1;32m     56\u001b[0m x \u001b[38;5;241m=\u001b[39m torch\u001b[38;5;241m.\u001b[39mlinspace(\u001b[38;5;241m-\u001b[39m\u001b[38;5;241m2\u001b[39m, \u001b[38;5;241m2\u001b[39m, \u001b[38;5;241m1000\u001b[39m)[\u001b[38;5;241m.\u001b[39m\u001b[38;5;241m.\u001b[39m\u001b[38;5;241m.\u001b[39m, \u001b[38;5;28;01mNone\u001b[39;00m]\u001b[38;5;241m.\u001b[39mto(device)\n\u001b[1;32m     57\u001b[0m left \u001b[38;5;241m=\u001b[39m random()\u001b[38;5;241m*\u001b[39m\u001b[38;5;241m2\u001b[39m\u001b[38;5;241m-\u001b[39m\u001b[38;5;241m1\u001b[39m\n",
      "\u001b[0;31mKeyboardInterrupt\u001b[0m: "
     ]
    }
   ],
   "source": [
    "for margin in ['clip', 'reflact', None]:\n",
    "    for t_noise in range(5):\n",
    "        for w in [0.0, 0.1, 0.5, 1.0, 2.0]:\n",
    "            net = MLP_cond(3, 512, 3, 1, 0.1).to(device)\n",
    "            print(\"margin:{}, t_noise:{}, w:{}\".format(margin, 2**t_noise*0.1, w))\n",
    "            energy_discrepancy_cond_train(net, f, margin, m_particles=16, t_noise=2**t_noise*0.1, w_stable=w, epochs=5000, batch_size=512)"
   ]
  },
  {
   "cell_type": "code",
   "execution_count": null,
   "metadata": {},
   "outputs": [],
   "source": []
  }
 ],
 "metadata": {
  "kernelspec": {
   "display_name": "ebm",
   "language": "python",
   "name": "python3"
  },
  "language_info": {
   "codemirror_mode": {
    "name": "ipython",
    "version": 3
   },
   "file_extension": ".py",
   "mimetype": "text/x-python",
   "name": "python",
   "nbconvert_exporter": "python",
   "pygments_lexer": "ipython3",
   "version": "3.8.19"
  }
 },
 "nbformat": 4,
 "nbformat_minor": 2
}
